{
 "cells": [
  {
   "metadata": {
    "ExecuteTime": {
     "end_time": "2025-05-11T16:37:14.540899Z",
     "start_time": "2025-05-11T16:37:14.520220Z"
    }
   },
   "cell_type": "code",
   "source": [
    "from torch.utils.data import DataLoader\n",
    "import torchvision.transforms as T\n",
    "import os\n",
    "import cv2\n",
    "from PIL import Image\n",
    "import numpy as np\n",
    "from matplotlib import pyplot as plt\n",
    "from FaceBinaryDataset import FaceBinaryDataset"
   ],
   "id": "d037a1f5c3adf8e0",
   "outputs": [],
   "execution_count": 39
  },
  {
   "metadata": {
    "ExecuteTime": {
     "end_time": "2025-05-12T18:47:02.448338Z",
     "start_time": "2025-05-12T18:47:02.313963Z"
    }
   },
   "cell_type": "code",
   "source": [
    "transform = T.Compose([\n",
    "    T.ToTensor(),\n",
    "    T.Normalize(mean=[0.5]*3, std=[0.5]*3)\n",
    "])\n",
    "\n",
    "dataset = FaceBinaryDataset(\"dataset/output_dataset\",dimension= 120, transform=transform)\n",
    "dataloader = DataLoader(dataset, batch_size=32, shuffle=False)\n",
    "\n",
    "\n",
    "\n",
    "img, label, userid = dataset[0]\n",
    "\n",
    "\n",
    "img = img.permute(1, 2, 0).numpy()\n",
    "\n",
    "\n",
    "\n",
    "img = img * 0.5 + 0.5\n",
    "plt.imshow(img)\n",
    "\n",
    "\n",
    "plt.title(f\"Label: {label}, Userid: {userid}\")\n",
    "plt.axis('off')\n",
    "plt.show()"
   ],
   "id": "efdc89944b3354b4",
   "outputs": [
    {
     "ename": "NameError",
     "evalue": "name 'T' is not defined",
     "output_type": "error",
     "traceback": [
      "\u001B[0;31m---------------------------------------------------------------------------\u001B[0m",
      "\u001B[0;31mNameError\u001B[0m                                 Traceback (most recent call last)",
      "Cell \u001B[0;32mIn[1], line 1\u001B[0m\n\u001B[0;32m----> 1\u001B[0m transform \u001B[38;5;241m=\u001B[39m \u001B[43mT\u001B[49m\u001B[38;5;241m.\u001B[39mCompose([\n\u001B[1;32m      2\u001B[0m     T\u001B[38;5;241m.\u001B[39mToTensor(),\n\u001B[1;32m      3\u001B[0m     T\u001B[38;5;241m.\u001B[39mNormalize(mean\u001B[38;5;241m=\u001B[39m[\u001B[38;5;241m0.5\u001B[39m]\u001B[38;5;241m*\u001B[39m\u001B[38;5;241m3\u001B[39m, std\u001B[38;5;241m=\u001B[39m[\u001B[38;5;241m0.5\u001B[39m]\u001B[38;5;241m*\u001B[39m\u001B[38;5;241m3\u001B[39m)\n\u001B[1;32m      4\u001B[0m ])\n\u001B[1;32m      6\u001B[0m dataset \u001B[38;5;241m=\u001B[39m FaceBinaryDataset(\u001B[38;5;124m\"\u001B[39m\u001B[38;5;124mdataset/output_dataset\u001B[39m\u001B[38;5;124m\"\u001B[39m,dimension\u001B[38;5;241m=\u001B[39m \u001B[38;5;241m120\u001B[39m, transform\u001B[38;5;241m=\u001B[39mtransform)\n\u001B[1;32m      7\u001B[0m dataloader \u001B[38;5;241m=\u001B[39m DataLoader(dataset, batch_size\u001B[38;5;241m=\u001B[39m\u001B[38;5;241m32\u001B[39m, shuffle\u001B[38;5;241m=\u001B[39m\u001B[38;5;28;01mFalse\u001B[39;00m)\n",
      "\u001B[0;31mNameError\u001B[0m: name 'T' is not defined"
     ]
    }
   ],
   "execution_count": 1
  }
 ],
 "metadata": {
  "kernelspec": {
   "display_name": "Python 3",
   "language": "python",
   "name": "python3"
  },
  "language_info": {
   "codemirror_mode": {
    "name": "ipython",
    "version": 2
   },
   "file_extension": ".py",
   "mimetype": "text/x-python",
   "name": "python",
   "nbconvert_exporter": "python",
   "pygments_lexer": "ipython2",
   "version": "2.7.6"
  }
 },
 "nbformat": 4,
 "nbformat_minor": 5
}
